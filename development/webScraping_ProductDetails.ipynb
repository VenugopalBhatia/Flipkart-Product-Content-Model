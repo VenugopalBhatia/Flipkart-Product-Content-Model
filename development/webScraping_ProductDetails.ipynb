{
 "metadata": {
  "language_info": {
   "codemirror_mode": {
    "name": "ipython",
    "version": 3
   },
   "file_extension": ".py",
   "mimetype": "text/x-python",
   "name": "python",
   "nbconvert_exporter": "python",
   "pygments_lexer": "ipython3",
   "version": "3.8.8"
  },
  "orig_nbformat": 2,
  "kernelspec": {
   "name": "python388jvsc74a57bd0b3ba2566441a7c06988d0923437866b63cedc61552a5af99d1f4fb67d367b25f",
   "display_name": "Python 3.8.8 64-bit ('base': conda)"
  }
 },
 "nbformat": 4,
 "nbformat_minor": 2,
 "cells": [
  {
   "cell_type": "code",
   "execution_count": null,
   "metadata": {},
   "outputs": [],
   "source": [
    "import pandas as pd\n",
    "import numpy as np\n",
    "from bs4 import BeautifulSoup\n",
    "from selenium import webdriver\n",
    "from selenium.webdriver.common.by import By\n",
    "import requests\n",
    "from selenium.webdriver.support.ui import WebDriverWait\n",
    "import selenium.webdriver.support.expected_conditions as EC\n",
    "from tqdm.notebook import tqdm\n",
    "import time\n",
    "import sys\n",
    "import datetime\n",
    "import time"
   ]
  },
  {
   "cell_type": "code",
   "execution_count": null,
   "metadata": {},
   "outputs": [],
   "source": [
    "driver = webdriver.Chrome(executable_path = r'C:\\Users\\Administrator\\Downloads\\chromedriver.exe')"
   ]
  },
  {
   "cell_type": "code",
   "execution_count": null,
   "metadata": {},
   "outputs": [],
   "source": [
    "df1 = pd.read_excel(r'Philips Top Products.xlsx',header = 0,engine = 'openpyxl')"
   ]
  },
  {
   "cell_type": "code",
   "execution_count": null,
   "metadata": {},
   "outputs": [],
   "source": [
    "# Need to get catalog images\n",
    "# driver.get('https://www.flipkart.com/product/p/itme?pid=MOBGYFAXFPHUPEE5')\n",
    "def getCatalogContent(driver):\n",
    "    \n",
    "    imgs = driver.find_elements_by_css_selector('div>ul>li>div>div[style*=background-image]')\n",
    "    numVids = len(driver.find_elements_by_css_selector('div>ul>li>div>div:nth-child(3)'))\n",
    "    imgList = []\n",
    "    for i in imgs:\n",
    "        url_ = i.value_of_css_property('background-image').strip('url(\"\")').replace('128/','416/',2)\n",
    "        imgList.append(url_)\n",
    "    return imgList,numVids\n"
   ]
  },
  {
   "cell_type": "code",
   "execution_count": null,
   "metadata": {},
   "outputs": [],
   "source": [
    "# Need to get all the remaining info on the webPage including features, description and Product title\n",
    "\n"
   ]
  },
  {
   "cell_type": "code",
   "execution_count": null,
   "metadata": {},
   "outputs": [],
   "source": [
    "# product_title = driver.find_element_by_css_selector('div>div>div>h1').text\n",
    "def getTechnicalDetails(driver):\n",
    "    details_fs = driver.find_elements_by_css_selector('table')\n",
    "    df_prodTabularDetails = pd.DataFrame()\n",
    "    productDetails = {}\n",
    "    for tl in details_fs:\n",
    "        table_content = tl.get_attribute('innerHTML')\n",
    "        # pd.read_html(table_content)\n",
    "        df = pd.read_html('<table>' + table_content + '</table>')[0]\n",
    "        df_prodTabularDetails = df_prodTabularDetails.append(df,ignore_index=True)\n",
    "    productDetails = df_prodTabularDetails.set_index(0)[1].to_dict()\n",
    "    try:\n",
    "        description = driver.find_elements_by_xpath('//div[contains(text(),\"Description\")]/following-sibling::div')\n",
    "        driver.execute_script(\"arguments[0].setAttribute('style','max-height:None;overflow:None;')\", description[0])\n",
    "        productDetails['Description_product'] = description[0].text\n",
    "    except:\n",
    "        pass\n",
    "    productDetails['timestamp'] = str(datetime.datetime.now())\n",
    "    return productDetails\n",
    "\n"
   ]
  },
  {
   "cell_type": "code",
   "execution_count": null,
   "metadata": {},
   "outputs": [],
   "source": [
    "def getFeatureDetails(driver):\n",
    "    feature_button = driver.find_elements_by_xpath(\"//button[text()='View all features']\")\n",
    "    if(len(feature_button)!=0):\n",
    "        feature_button[0].click()\n",
    "    details_elements = driver.find_elements_by_css_selector('div.col-12-12 div:nth-child(2)>p')\n",
    "\n",
    "    featureDetails = {}\n",
    "    for ftrIdx in range(len(details_elements)):\n",
    "        featureDetails['feature_' + str(ftrIdx)] = details_elements[ftrIdx].text\n",
    "    featureDetails['timestamp'] = str(datetime.datetime.now())\n",
    "    return featureDetails\n"
   ]
  },
  {
   "cell_type": "code",
   "execution_count": 110,
   "metadata": {},
   "outputs": [],
   "source": [
    "driver.get('https://www.flipkart.com/product/p/itme?pid=IRNFZV2YUBUZ3PTZ')"
   ]
  },
  {
   "cell_type": "code",
   "execution_count": null,
   "metadata": {},
   "outputs": [],
   "source": [
    "\n"
   ]
  },
  {
   "cell_type": "code",
   "execution_count": null,
   "metadata": {},
   "outputs": [],
   "source": [
    "def getHlEmiDetails(driver):\n",
    "    OtherDetails = driver.find_elements_by_css_selector('div.col-6-12')\n",
    "    hl_emi_details = {}\n",
    "    for hl_emi_idx in range(len(OtherDetails)):\n",
    "        _detail = OtherDetails[hl_emi_idx].text\n",
    "        detail_pair = _detail.split('\\n',maxsplit = 1)\n",
    "        if(_detail!='' and len(detail_pair)>1):\n",
    "            hl_emi_details[detail_pair[0]] = detail_pair[1]\n",
    "    hl_emi_details['timestamp'] = str(datetime.datetime.now())\n",
    "    return hl_emi_details"
   ]
  },
  {
   "cell_type": "code",
   "execution_count": null,
   "metadata": {},
   "outputs": [],
   "source": [
    "def getASINData(asin,timeout,locator,driver):\n",
    "    link = 'https://www.flipkart.com/product/p/itme?pid=' + str(asin)\n",
    "\n",
    "    driver.get(link)\n",
    "    WebDriverWait(driver, timeout).until(EC.visibility_of_element_located((By.CSS_SELECTOR, locator)))\n",
    "    product_title = driver.find_element_by_css_selector('div>div>div>h1').text\n",
    "    img_list,num_vids = getCatalogContent(driver)\n",
    "    productDetails = getTechnicalDetails(driver)\n",
    "    featureDetails = getFeatureDetails(driver)\n",
    "    hl_emi_details =  getHlEmiDetails(driver)\n",
    "    \n",
    "    final_res = {}\n",
    "    final_res['product title'] = product_title\n",
    "    final_res['product details'] = productDetails\n",
    "    final_res['feature details'] = featureDetails\n",
    "    final_res['hl_emi details'] = hl_emi_details\n",
    "    final_res['images'] = img_list\n",
    "    final_res['num vids'] = num_vids\n",
    "    final_res['timestamp'] = str(datetime.datetime.now())\n",
    "    return final_res"
   ]
  },
  {
   "cell_type": "code",
   "execution_count": null,
   "metadata": {},
   "outputs": [],
   "source": [
    "def getData(asin_list,asin_start_index,timeout,locator,driver):\n",
    "    asin_page = {}\n",
    "    current_asin_index = 0\n",
    "    for asin_idx in tqdm(range(asin_start_index,len(asin_list))):\n",
    "        try:\n",
    "            asin = asin_list[asin_idx]\n",
    "            asin_page[asin] = getASINData(asin,timeout,locator,driver)\n",
    "            current_asin_index = asin_idx\n",
    "        except KeyboardInterrupt:\n",
    "            print('user paused loop')\n",
    "            break\n",
    "        except:\n",
    "            print(sys.exc_info())\n",
    "            pass\n",
    "    # print(asin_page)\n",
    "    return asin_page,current_asin_index\n"
   ]
  },
  {
   "cell_type": "code",
   "execution_count": null,
   "metadata": {},
   "outputs": [],
   "source": [
    "dfASINList = pd.read_excel(r'Philips Top Products.xlsx',header = 0,engine = 'openpyxl')\n",
    "asin_list = list(set(dfASINList['asin']))\n",
    "asin_list"
   ]
  },
  {
   "cell_type": "code",
   "execution_count": 104,
   "metadata": {
    "tags": [
     "outputPrepend"
    ]
   },
   "outputs": [
    {
     "output_type": "display_data",
     "data": {
      "text/plain": "  0%|          | 0/1005 [00:00<?, ?it/s]",
      "application/vnd.jupyter.widget-view+json": {
       "version_major": 2,
       "version_minor": 0,
       "model_id": "146bc2c156444d7880bda3f1ffca61af"
      }
     },
     "metadata": {}
    },
    {
     "output_type": "stream",
     "name": "stdout",
     "text": [
      "NG', 'Description_product': 'Perfect trim with self sharpening stainless steel blades', 'timestamp': '2021-05-26 17:15:58.233255'}, 'feature details': {'timestamp': '2021-05-26 17:15:58.252948'}, 'hl_emi details': {'Highlights': 'Blade Material: Stainless Steel\\nTrimming Range: 0.5 - 7 mm\\n30 min battery run time\\n2 length settings\\nGender: Men\\nFor Beard & Moustache', 'timestamp': '2021-05-26 17:15:58.305711'}, 'images': [], 'num vids': 0, 'timestamp': '2021-05-26 17:15:58.305711'}, 'PUTFVYC5HETHVDEG': {'product title': 'PHILIPS HD4815/01 pack of 3 800 W Pop Up Toaster  (White)', 'product details': {'Sales Package': '3 toster', 'Brand': 'PHILIPS', 'Model': 'HD4815/01 pack of 3', 'Color': 'White', 'No of Slices': 2, 'Power Consumption': '800 W', 'Service Type': 'Customer needs to carry the product to the nearby Authorized Service Center to get the product repaired or inspected.', 'Warranty Summary': '2 Years Warranty by Philips Pop-up Toaster', 'Covered In Warranty': 'Manufacturing Defects', 'Not Covered In Warranty': 'PHYSICAL DAMAGE', 'Description_product': 'Do midnight pangs hit you often? With this Philips Pop Up Toaster, you can make crisp, toasted bread in a jiffy without stressing too much in the kitchen. It lets you adjust the heat level according to your requirements, so you can get the perfectly browned toast just the way you want it.', 'timestamp': '2021-05-26 17:15:59.666767'}, 'feature details': {'timestamp': '2021-05-26 17:15:59.687293'}, 'hl_emi details': {'Highlights': 'Number of Slices: 2\\nPower Consumption: 800 W', 'Services': '2 Years Warranty by Philips Pop-up Toaster\\n7 Days Replacement Policy?\\nCash on Delivery available?', 'timestamp': '2021-05-26 17:15:59.773166'}, 'images': [], 'num vids': 0, 'timestamp': '2021-05-26 17:15:59.773166'}, 'TMRG2CNFWCADEG6E': {'product title': 'PHILIPS BeardTrimmer Series 3000 Runtime: 60 min Trimmer for Men  (Blue)', 'product details': {'1 Trimmer, Warranty Card, Charger, User Manual, Attachment': nan, 'Brand': 'PHILIPS', 'Model Number': 'BeardTrimmer Series 3000', 'Type': 'Cordless', 'Blade Material': 'Stainless Steel', 'Body Material': 'Fiber', 'Color': 'Blue', 'Trimming Range': '0.5 - 10 mm', 'Water Resistant': 'Yes', 'Washable Head': 'Yes', 'Features': 'Adjustable Trimming Range, Rechargeable, Easy to Clean, Detachable Head, Non-Allergic', 'Suitable For': 'Beard & Moustache, Hair Clipping', 'Length Adjustments': '5', 'Power Source': 'Electricity', 'Battery Run Time': '60 min', 'Warranty Summary': '2 Years Warranty', 'Service Type': 'Offsite', 'Covered in Warranty': 'Manufacturing Defects', 'Not Covered in Warranty': 'Damage caused by mishandling', 'Description_product': 'This trimmer with the innovative Lift & Trim system lifts and captures more low-lying hairs for efficient, even trimming results. This way you will easily achieve the 3-day stubble, short beard or long beard look you want.', 'timestamp': '2021-05-26 17:16:01.116672'}, 'feature details': {'timestamp': '2021-05-26 17:16:01.136277'}, 'hl_emi details': {'Highlights': 'Blade Material: Stainless Steel\\nTrimming Range: 0.5 - 10 mm\\n60 min battery run time\\n5 length settings\\nGender: Men\\nFor Beard & Moustache, Hair Clipping', 'timestamp': '2021-05-26 17:16:01.198810'}, 'images': ['https://rukminim1.flixcart.com/image/416/416/knqd3m80/trimmer/m/r/c/0-5-10-mm-stainless-steel-beardtrimmer-series-3000-signed-by-original-imag2cndyb4uwqvg.jpeg?q=70', 'https://rukminim1.flixcart.com/image/416/416/knqd3m80/trimmer/2/9/p/0-5-10-mm-stainless-steel-beardtrimmer-series-3000-signed-by-original-imafudtumvwhupdu.jpeg?q=70', 'https://rukminim1.flixcart.com/image/416/416/knqd3m80/trimmer/7/m/3/0-5-10-mm-stainless-steel-beardtrimmer-series-3000-signed-by-original-imag2cndw9xkjwqk.jpeg?q=70', 'https://rukminim1.flixcart.com/image/416/416/knqd3m80/trimmer/b/x/j/0-5-10-mm-stainless-steel-beardtrimmer-series-3000-signed-by-original-imag2cnd76a3fgpd.jpeg?q=70'], 'num vids': 0, 'timestamp': '2021-05-26 17:16:01.198810'}, 'IRNFHRYDEAZUMZRG': {'product title': 'PHILIPS HD-1134 /28 750-Watts 750 W Dry Iron  (Black)', 'product details': {'Sales Package': 'iron', 'Brand': 'PHILIPS', 'Model': 'HD-1134 /28 750-Watts', 'Type': 'Dry', 'Color': 'Black', 'Soleplate type': 'clated', 'Temperature Control': 'Yes', 'Indicator Light': 'Yes', 'Spray': 'No', 'Steam Burst': 'No', 'Self Cleaning': 'Yes', 'Cordless': 'No', 'Automatic shut-off': 'Yes', 'Power Consumption': '750 W', 'Height': '14 cm', 'Width': '16 cm', 'Depth': '14 cm', 'Description_product': 'Linished coated soleplate Iron temperature-ready light Cord winder to conveniently store the main cord Warranty: 2 years on product Power: 750 watts; Operating voltage: 240 volts Contact_us on: [ 18001022929 ] Linished coated soleplate Iron temperature-ready light Cord winder to conveniently store the main cord Warranty: 2 years on product Power: 750 watts; Operating voltage: 240 vol', 'timestamp': '2021-05-26 17:16:03.015104'}, 'feature details': {'timestamp': '2021-05-26 17:16:03.038643'}, 'hl_emi details': {'Highlights': 'Dry Iron\\nclated Plate\\nConsumes 750 W', 'Easy Payment Options': 'Cash on Delivery\\nNet banking & Credit/ Debit/ ATM card\\nView Details', 'timestamp': '2021-05-26 17:16:03.133600'}, 'images': ['https://rukminim1.flixcart.com/image/416/416/k6dxocw0/iron/h/t/c/philips-750-watt-dry-iron-original-imafbqr8gdsgwr4r.jpeg?q=70', 'https://rukminim1.flixcart.com/image/416/416/k5zn9u80/iron/9/y/y/philips-750-watt-dry-iron-black-original-imafbqr8yswafpfb.jpeg?q=70', 'https://rukminim1.flixcart.com/image/416/416/k6dxocw0/iron/h/t/c/philips-750-watt-dry-iron-original-imafbqr8kuzkqzxg.jpeg?q=70', 'https://rukminim1.flixcart.com/image/416/416/k687wy80/iron/6/g/v/philips-hd-1134-dry-iron-original-imafhrs5gsxvzhek.jpeg?q=70', 'https://rukminim1.flixcart.com/image/416/416/k6dxocw0/iron/h/t/c/philips-750-watt-dry-iron-original-imafhdfchmpznkjc.jpeg?q=70'], 'num vids': 0, 'timestamp': '2021-05-26 17:16:03.134169'}, 'IRNFGZSGMHPUP4ZP': {'product title': 'PHILIPS gv 4 W Steam Iron  (Blue)', 'product details': {'Sales Package': 1, 'Brand': 'PHILIPS', 'Model': 'gv', 'Type': 'Steam', 'Color': 'Blue', 'Soleplate type': 'na', 'Spray': 'Yes', 'Steam Burst': 'Yes', 'Power Consumption': '4 W', 'Height': '12 cm', 'Width': '44 cm', 'Depth': '12 cm', 'Description_product': 'na', 'timestamp': '2021-05-26 17:16:04.640013'}, 'feature details': {'timestamp': '2021-05-26 17:16:04.659744'}, 'hl_emi details': {'Highlights': 'Steam Iron\\nna Plate\\nConsumes 4 W\\nHas Spray\\nHas Steam Burst', 'timestamp': '2021-05-26 17:16:04.730811'}, 'images': [], 'num vids': 0, 'timestamp': '2021-05-26 17:16:04.730811'}, 'TMRG24YTGCFFKD2D': {'product title': 'PHILIPS Hairclipper series 3000 Runtime: 0 min Trimmer for Men  (Blue)', 'product details': {'1 Trimmer, Hair Clipper, User Manual, Warranty Card': nan, 'Brand': 'PHILIPS', 'Model Number': 'Hairclipper series 3000', 'Type': 'Corded', 'Blade Material': 'Stainless Steel', 'Color': 'Blue', 'Trimming Range': '0.5 - 22 mm', 'Washable Head': 'Yes', 'Features': 'Adjustable Trimming Range, Easy to Clean, Detachable Head', 'Suitable For': 'Hair Clipping', 'Length Adjustments': '13', 'Power Source': 'AC Adapter', 'Battery Run Time': '0 min', 'Warranty Summary': '3 Years Warranty with Product Registration', 'Service Type': 'Visit at the Service Center or Call at 1800102292 for More Details', 'Covered in Warranty': 'This Apparatus is Covered Under Warranty Against Any Defect Due to Defective Material or Workmanship from the Date of Purchase. Should a Defect Develop During the Period of Warranty. Philips Electronics India Ltd. Undertakes to Repair the Apparatus Free of Charge Through the Dealer from Whom it Has Been Purchased or at Any of the Philips Authorized Service Centres.', 'Not Covered in Warranty': 'Apparatus is Not Used According to User Manual, Defects Caused by Improper or Reckless Use, Repairs Done by Persons Other Than Philips Authorized Service Centre, Modification of Any Nature Made in the Apparatus, Tampered Serial Number, Incomplete Warranty Card After Purchase, Product if Used for Commercial Purpose (i.e. Other Than Domestic Use), Usage of Parts Not Recommended by Philips or Those Made by Other Manufacturers.', 'Description_product': 'Get an easy haircut, quick and easily. DualCut technology with self-sharpening blades clips twice as fast*. Trim-n-Flow technology features a comb designed to prevent clogging - so you can finish your style in one go', 'timestamp': '2021-05-26 17:16:06.153404'}, 'feature details': {'timestamp': '2021-05-26 17:16:06.179019'}, 'hl_emi details': {'Highlights': 'Blade Material: Stainless Steel\\nTrimming Range: 0.5 - 22 mm\\n0 min battery run time\\n13 length settings\\nGender: Men\\nFor Hair Clipping', 'timestamp': '2021-05-26 17:16:06.217966'}, 'images': ['https://rukminim1.flixcart.com/image/416/416/kngd0nk0/trimmer/8/p/z/0-5-22-mm-stainless-steel-hairclipper-series-3000-corded-philips-original-imag24ysfh5vwdwh.jpeg?q=70', 'https://rukminim1.flixcart.com/image/416/416/kngd0nk0/trimmer/p/l/a/0-5-22-mm-stainless-steel-hairclipper-series-3000-corded-philips-original-imag24ysacrbgwsd.jpeg?q=70', 'https://rukminim1.flixcart.com/image/416/416/kngd0nk0/trimmer/8/h/x/0-5-22-mm-stainless-steel-hairclipper-series-3000-corded-philips-original-imag24ysfnqwywup.jpeg?q=70', 'https://rukminim1.flixcart.com/image/416/416/kngd0nk0/trimmer/r/u/z/0-5-22-mm-stainless-steel-hairclipper-series-3000-corded-philips-original-imag24ysgzsmajjf.jpeg?q=70', 'https://rukminim1.flixcart.com/image/416/416/kngd0nk0/trimmer/6/w/h/0-5-22-mm-stainless-steel-hairclipper-series-3000-corded-philips-original-imag24ysgwqhapdm.jpeg?q=70'], 'num vids': 0, 'timestamp': '2021-05-26 17:16:06.217966'}, 'EPRFZ6XESFJHQ5TP': {'product title': 'PHILIPS BRE710/00 pack of 2 Cordless Epilator  (White)', 'product details': {'Epilator, Shaving Head, Trimming Comb, Delicate Area Cap, Optimal Contact Cap, User Manual, Warranty Card': nan, 'Brand': 'PHILIPS', 'Model Number': 'BRE710/00 pack of 2', 'Type': 'Cordless', 'Blade Type': 'Tweezer', 'Body Material': 'Plastic', 'Color': 'White', 'Suitable For': 'Legs', 'Suitable Environment': 'Dry and Wet', 'Speed Setting Available': 'Yes', 'Features': 'Gentle Epilation for Smooth Skin up to 4 Weeks, Delicate Area Cap to Remove Unwanted Facial, Underarms and Bikini Hairs, Extra Wide Epilator Head with Ceramic Tweezers Covers More Skin with Every Stroke, Shaving Head and Trimming Comb for a Close Shave, Opti-light Helps You Target and Remove Even Trickiest Hair, Optimal Contact Cap Designed to Reduce Skin Pulling and Discomfort, Cordless Wet and Dry for Use in Bath or Shower', 'Battery Run Time': '40', 'Auto Overload Off Present': 'Yes', 'Power Source': 'battery', 'Power Consumption': '5.4', 'Width': '14.8 cm', 'Height': '18.5 cm', 'Weight': '0.293 kg', 'Warranty Summary': '2 Years Warranty', 'Service Type': 'Visit at the Service Center or Call at 1800102292 for More Details', 'Covered in Warranty': 'manufuctring defect', 'Not Covered in Warranty': 'physical damage', 'timestamp': '2021-05-26 17:16:07.702534'}, 'feature details': {'timestamp': '2021-05-26 17:16:07.723137'}, 'hl_emi details': {'Highlights': 'For Legs\\nUsed For: Dry and Wet\\nTweezer Blade\\nbattery\\nSpeed Setting Available', 'Services': '2 Years Warranty\\nCash on Delivery available?', 'timestamp': '2021-05-26 17:16:07.797271'}, 'images': [], 'num vids': 0, 'timestamp': '2021-05-26 17:16:07.797271'}, 'TMRFVW7GNQGT6ZAZ': {'product title': 'PHILIPS HC3505/15 Runtime: 0 mins Trimmer for Men  (Blue)', 'product details': {'1 Trimmer, Hair Clipper, User Manual, Warranty Card, Hair Comb': nan, 'Brand': 'PHILIPS', 'Model Number': 'HC3505/15', 'Type': 'Corded', 'Blade Material': 'Stainless Steel', 'Body Material': 'Stainless Steel, Plastic', 'Color': 'Blue', 'Trimming Range': '0.5 - 22 mm', 'Water Resistant': 'Yes', 'Washable Head': 'Yes', 'Suitable For': 'Beard & Moustache', 'Length Adjustments': '13', 'Power Source': 'AC Adapter', 'Battery Run Time': '0 mins', 'Height': '22.4 cm', 'Weight': '351 g', 'Warranty Summary': '3 Years Warranty with Product Registration', 'Service Type': 'Visit at the Service Center or Call at 1800102292 for More Details', 'Covered in Warranty': 'This Apparatus is Covered Under Warranty Against Any Defect Due to Defective Material or Workmanship from the Date of Purchase. Should a Defect Develop During the Period of Warranty. Philips Electronics India Ltd. Undertakes to Repair the Apparatus Free of Charge Through the Dealer from Whom it Has Been Purchased or at Any of the Philips Authorized Service Centres.', 'Not Covered in Warranty': 'Apparatus is Not Used According to User Manual, Defects Caused by Improper or Reckless Use, Repairs Done by Persons Other Than Philips Authorized Service Centre, Modification of Any Nature Made in the Apparatus, Tampered Serial Number, Incomplete Warranty Card After Purchase, Product if Used for Commercial Purpose (i.e. Other Than Domestic Use), Usage of Parts Not Recommended by Philips or Those Made by Other Manufacturers.', 'timestamp': '2021-05-26 17:16:10.027504'}, 'feature details': {'timestamp': '2021-05-26 17:16:10.046195'}, 'hl_emi details': {'Highlights': 'Blade Material: Stainless Steel\\nTrimming Range: 0.5 - 22 mm\\n0 mins battery run time\\n13 length settings\\nGender: Men\\nFor Beard & Moustache', 'Services': '3 Years Warranty with Product Registration\\n7 Days Replacement Policy?\\nCash on Delivery available?', 'timestamp': '2021-05-26 17:16:10.117286'}, 'images': ['https://rukminim1.flixcart.com/image/416/416/kfwvcsw0-0/trimmer/x/c/l/0-5-22-mm-hc3505-15-stainless-steel-corded-philips-original-imafw9e8vhxhrkk3.jpeg?q=70', 'https://rukminim1.flixcart.com/image/416/416/kfwvcsw0-0/trimmer/k/t/4/0-5-22-mm-hc3505-15-stainless-steel-corded-philips-original-imafw9e8n6shzqd2.jpeg?q=70', 'https://rukminim1.flixcart.com/image/416/416/kfwvcsw0-0/trimmer/k/w/q/0-5-22-mm-hc3505-15-stainless-steel-corded-philips-original-imafw9e8qgm32txd.jpeg?q=70', 'https://rukminim1.flixcart.com/image/416/416/kfwvcsw0-0/trimmer/y/c/w/0-5-22-mm-hc3505-15-stainless-steel-corded-philips-original-imafw9e8rgna8evz.jpeg?q=70', 'https://rukminim1.flixcart.com/image/416/416/kfwvcsw0-0/trimmer/4/i/u/0-5-22-mm-hc3505-15-stainless-steel-corded-philips-original-imafw9e8mpytvztx.jpeg?q=70', 'https://rukminim1.flixcart.com/image/416/416/kfwvcsw0-0/trimmer/i/j/f/0-5-22-mm-hc3505-15-stainless-steel-corded-philips-original-imafw9e8r2vmfsmh.jpeg?q=70'], 'num vids': 0, 'timestamp': '2021-05-26 17:16:10.117286'}, 'MIXEHC24GCZCJS6F': {'product title': 'PHILIPS hl 7756 750 W Mixer Grinder (3 Jars, Black)', 'product details': {'Sales Package': '1 mixer grinder and 3 jars', 'Warranty Summary': '2 years warranty on motor', 'Warranty Service Type': 'on site service no 18001022929', 'Covered in Warranty': 'warranty on mixi motor', 'Not Covered in Warranty': 'warranty does not cover any physical damaged', 'Depth': '35.56', 'Height': '25.4 cm', 'Width': '20.32 cm', 'Weight': '3 kg', 'Description_product': 'Philips hl 7756 Mixer Grinder', 'timestamp': '2021-05-26 17:16:11.878968'}, 'feature details': {'timestamp': '2021-05-26 17:16:11.907351'}, 'hl_emi details': {'Total Jars': '3', 'Highlights': '750 W : Higher the Wattage, tougher the Juicing/Grinding\\nSuitable for: Wet Grinding, Liquidizing', 'Easy Payment Options': 'No cost EMI starting from ₹616/month\\nCash on Delivery\\nNet banking & Credit/ Debit/ ATM card\\nView Details', 'timestamp': '2021-05-26 17:16:12.012598'}, 'images': ['https://rukminim1.flixcart.com/image/416/416/mixer-grinder-juicer/s/6/f/philips-hl-7756-original-imaemfg6ykhb2c3e.jpeg?q=70', 'https://rukminim1.flixcart.com/image/416/416/mixer-grinder-juicer/s/6/f/philips-hl-7756-original-imaehbz5kwqeuhva.jpeg?q=70', 'https://rukminim1.flixcart.com/image/416/416/mixer-grinder-juicer/s/6/f/philips-hl-7756-original-imaemfg6zghf7wxc.jpeg?q=70'], 'num vids': 0, 'timestamp': '2021-05-26 17:16:12.012598'}, 'TMRFUFZ3HK9CHZWM': {'product title': 'PHILIPS TRIMMER VIRAT KOHLI SIGNATURE LIMITED EDITION + BLACK HAIR CUTTING SHEET Runtime: 45 min Trimmer for Men & Women  (Black, Blue)', 'product details': {'TRIMMER, CUTTING SHEET': nan, 'Brand': 'PHILIPS', 'Model Number': 'TRIMMER VIRAT KOHLI SIGNATURE LIMITED EDITION + BLACK HAIR CUTTING SHEET', 'Type': 'Cordless', 'Blade Material': 'Stainless Steel', 'Color': 'Black, Blue', 'Trimming Range': '0.5 - 10 mm', 'Washable Head': 'Yes', 'Features': 'Adjustable Trimming Range, Easy to Clean, Rechargeable, Detachable Head', 'Suitable For': 'Beard & Moustache, Hair Clipping', 'Length Adjustments': '20', 'Power Source': 'DURA POWER TECHNOLOGY', 'Battery Run Time': '45 min', 'Warranty Summary': '3 YEARS', 'Service Type': 'ON SITE PHILLIPS', 'Covered in Warranty': 'MAAANUFACTURING', 'Not Covered in Warranty': 'DAMAGE', 'Description_product': 'Effortless even trim This trimmer with the innovative Lift & Trim system lifts and captures more low-lying hairs for efficient, even trimming results. This way you will easily achieve the 3-day stubble, short beard or long beard look you want.', 'timestamp': '2021-05-26 17:16:13.293836'}, 'feature details': {'timestamp': '2021-05-26 17:16:13.328997'}, 'hl_emi details': {'Highlights': 'Blade Material: Stainless Steel\\nTrimming Range: 0.5 - 10 mm\\n45 min battery run time\\n20 length settings\\nGender: Men & Women\\nFor Beard & Moustache, Hair Clipping', 'timestamp': '2021-05-26 17:16:13.373725'}, 'images': [], 'num vids': 0, 'timestamp': '2021-05-26 17:16:13.373725'}, 'MIXFHEHDWSFZZWFV': {'product title': 'PHILIPS (HL1606 )3Jar Watt 500 Mixer Grinder (3 Jars, White)', 'product details': {'Sales Package': 'mixer grinder', 'Warranty Summary': '1', 'Warranty Service Type': 'company', 'Covered in Warranty': 'manufacturer', 'Not Covered in Warranty': 'physical damage', 'Depth': '18', 'Height': '18 cm', 'Width': '18 cm', 'Weight': '1', 'Description_product': 'Product Features Comes with a two year warranty Consumes 500 watts of power, and operates on 230 volts Weighs only 2.8 kg Automatically shuts off to prevent overload Comes in a compact design for easy storage Philips HL1606 500-Watt Mixer Grinder The Philips HL1606 Mixer Grinder is a revolutionary product for anybody who enjoys preparing delicious and healthy homemade food. This little wonder from Philips will shorten your pre-cooking preparation time by half, making cooking much easier, not to mention a lot more fun. The Philips Mixer Grinder includes an automatic shut-off button, and the entire set includes a mixer and grinder, chutney jar, wet grinding jar, multipurpose jar, spatula, an instruction manual, and a warranty card. This mixer grinder has special blades that lift the food, and grind it at the same time, to create a fine blend of its contents destroying lumps. The bottom of the grinder has an anti-slip base, which uses vacuum suction to keep the grinder in place while it is in use. It comes in a very sleek and compact design, which does not take up too much storage space. The body comes in a simple white colour, and the base and operating dial is a peppy green colour. This product is a must-have for housewives who need to prepare a quick, healthy, and delicious dinner for the entire family.', 'timestamp': '2021-05-26 17:16:14.785921'}, 'feature details': {'timestamp': '2021-05-26 17:16:14.806331'}, 'hl_emi details': {'Total Jars': '3', 'Highlights': '500 : Higher the Wattage, tougher the Juicing/Grinding', 'Easy Payment Options': 'No cost EMI starting from ₹507/month\\nCash on Delivery\\nNet banking & Credit/ Debit/ ATM card\\nView Details', 'timestamp': '2021-05-26 17:16:14.902356'}, 'images': ['https://rukminim1.flixcart.com/image/416/416/jwtkk280/mixer-grinder-juicer/w/f/v/philips-hl1606-3jar-watt-original-imafheh8cuyxthjj.jpeg?q=70', 'https://rukminim1.flixcart.com/image/416/416/k6fd47k0pkrrdj/mixer-grinder-juicer-refurbished/z/t/t/flair-u-550-flair-3-prestige-original-imafdzpr35vv7zh7.jpeg?q=70'], 'num vids': 0, 'timestamp': '2021-05-26 17:16:14.902356'}}\n"
     ]
    }
   ],
   "source": [
    "locator = 'div>div>div>h1'\n",
    "timeout = 10\n",
    "asin_start_index = 0 #change to asin_current_index to resume loop from the point where it was paused\n",
    "# asin_start_index = asin_current_index #\n",
    "asin_details = {} ## comment this line and update asin_details with asin_page before restarting loop\n",
    "asin_page,asin_current_index = getData(asin_list,asin_start_index,timeout,locator,driver)\n",
    "asin_details.update(asin_page)\n",
    "print(\"asin details\", asin_page)"
   ]
  },
  {
   "cell_type": "code",
   "execution_count": 105,
   "metadata": {},
   "outputs": [],
   "source": [
    "df_FlipkartData = pd.DataFrame.from_dict(asin_page,orient = 'index')"
   ]
  },
  {
   "cell_type": "code",
   "execution_count": 124,
   "metadata": {},
   "outputs": [],
   "source": [
    "df_FlipkartData.to_csv('philips_data.csv')"
   ]
  },
  {
   "cell_type": "code",
   "execution_count": 109,
   "metadata": {},
   "outputs": [
    {
     "output_type": "execute_result",
     "data": {
      "text/plain": [
       "                                                      product title  \\\n",
       "TMRFSXHRMGTRGSUB  PHILIPS MG 3730 Runtime: 60 min Trimmer for Me...   \n",
       "IRNFZV2YUBUZ3PTZ  PHILIPS Dry Iron 1000 WATT 1000 W Steam Iron  ...   \n",
       "IRNF5PDZRSABTJPF            PHILIPS HI 114 1000 W Dry Iron  (White)   \n",
       "TMRFG4XHFDEBCWFZ  PHILIPS BT3201/15 Runtime: 30 min Trimmer for ...   \n",
       "ICTFZJ2FBDXFH3N8  PHILIPS Viva Collection HD4938/01 2100-Watt In...   \n",
       "...                                                             ...   \n",
       "EPRFZ6XESFJHQ5TP  PHILIPS BRE710/00 pack of 2 Cordless Epilator ...   \n",
       "TMRFVW7GNQGT6ZAZ  PHILIPS HC3505/15 Runtime: 0 mins Trimmer for ...   \n",
       "MIXEHC24GCZCJS6F  PHILIPS hl 7756 750 W Mixer Grinder (3 Jars, B...   \n",
       "TMRFUFZ3HK9CHZWM  PHILIPS TRIMMER VIRAT KOHLI SIGNATURE LIMITED ...   \n",
       "MIXFHEHDWSFZZWFV  PHILIPS (HL1606 )3Jar Watt 500 Mixer Grinder (...   \n",
       "\n",
       "                                                    product details  \\\n",
       "TMRFSXHRMGTRGSUB  {'1 Trimmer set': nan, 'Brand': 'PHILIPS', 'Mo...   \n",
       "IRNFZV2YUBUZ3PTZ  {'Sales Package': 'IRON', 'Brand': 'PHILIPS', ...   \n",
       "IRNF5PDZRSABTJPF  {'Sales Package': 1, 'Brand': 'PHILIPS', 'Mode...   \n",
       "TMRFG4XHFDEBCWFZ  {'1 trimmer, user manual, warranty card': nan,...   \n",
       "ICTFZJ2FBDXFH3N8  {'Sales Package': '1 INDUCTION', 'Brand': 'PHI...   \n",
       "...                                                             ...   \n",
       "EPRFZ6XESFJHQ5TP  {'Epilator, Shaving Head, Trimming Comb, Delic...   \n",
       "TMRFVW7GNQGT6ZAZ  {'1 Trimmer, Hair Clipper, User Manual, Warran...   \n",
       "MIXEHC24GCZCJS6F  {'Sales Package': '1 mixer grinder and 3 jars'...   \n",
       "TMRFUFZ3HK9CHZWM  {'TRIMMER, CUTTING SHEET': nan, 'Brand': 'PHIL...   \n",
       "MIXFHEHDWSFZZWFV  {'Sales Package': 'mixer grinder', 'Warranty S...   \n",
       "\n",
       "                                              feature details  \\\n",
       "TMRFSXHRMGTRGSUB  {'timestamp': '2021-05-26 16:41:31.216264'}   \n",
       "IRNFZV2YUBUZ3PTZ  {'timestamp': '2021-05-26 16:41:32.872069'}   \n",
       "IRNF5PDZRSABTJPF  {'timestamp': '2021-05-26 16:41:34.978542'}   \n",
       "TMRFG4XHFDEBCWFZ  {'timestamp': '2021-05-26 16:41:36.613321'}   \n",
       "ICTFZJ2FBDXFH3N8  {'timestamp': '2021-05-26 16:41:38.354163'}   \n",
       "...                                                       ...   \n",
       "EPRFZ6XESFJHQ5TP  {'timestamp': '2021-05-26 17:16:07.723137'}   \n",
       "TMRFVW7GNQGT6ZAZ  {'timestamp': '2021-05-26 17:16:10.046195'}   \n",
       "MIXEHC24GCZCJS6F  {'timestamp': '2021-05-26 17:16:11.907351'}   \n",
       "TMRFUFZ3HK9CHZWM  {'timestamp': '2021-05-26 17:16:13.328997'}   \n",
       "MIXFHEHDWSFZZWFV  {'timestamp': '2021-05-26 17:16:14.806331'}   \n",
       "\n",
       "                                                     hl_emi details  \\\n",
       "TMRFSXHRMGTRGSUB  {'Highlights': 'Blade Material: Titanium Coate...   \n",
       "IRNFZV2YUBUZ3PTZ  {'Highlights': 'Steam Iron\n",
       "TEFLON Plate\n",
       "Consum...   \n",
       "IRNF5PDZRSABTJPF  {'Highlights': 'Dry Iron\n",
       "Golden American Herit...   \n",
       "TMRFG4XHFDEBCWFZ  {'Highlights': 'Blade Material: Stainless Stee...   \n",
       "ICTFZJ2FBDXFH3N8  {'Highlights': 'Type: Induction Cooktop\n",
       "Workto...   \n",
       "...                                                             ...   \n",
       "EPRFZ6XESFJHQ5TP  {'Highlights': 'For Legs\n",
       "Used For: Dry and Wet...   \n",
       "TMRFVW7GNQGT6ZAZ  {'Highlights': 'Blade Material: Stainless Stee...   \n",
       "MIXEHC24GCZCJS6F  {'Total Jars': '3', 'Highlights': '750 W : Hig...   \n",
       "TMRFUFZ3HK9CHZWM  {'Highlights': 'Blade Material: Stainless Stee...   \n",
       "MIXFHEHDWSFZZWFV  {'Total Jars': '3', 'Highlights': '500 : Highe...   \n",
       "\n",
       "                                                             images  num vids  \\\n",
       "TMRFSXHRMGTRGSUB                                                 []         0   \n",
       "IRNFZV2YUBUZ3PTZ  [https://rukminim1.flixcart.com/image/416/416/...         0   \n",
       "IRNF5PDZRSABTJPF  [https://rukminim1.flixcart.com/image/416/416/...         0   \n",
       "TMRFG4XHFDEBCWFZ  [https://rukminim1.flixcart.com/image/416/416/...         0   \n",
       "ICTFZJ2FBDXFH3N8                                                 []         0   \n",
       "...                                                             ...       ...   \n",
       "EPRFZ6XESFJHQ5TP                                                 []         0   \n",
       "TMRFVW7GNQGT6ZAZ  [https://rukminim1.flixcart.com/image/416/416/...         0   \n",
       "MIXEHC24GCZCJS6F  [https://rukminim1.flixcart.com/image/416/416/...         0   \n",
       "TMRFUFZ3HK9CHZWM                                                 []         0   \n",
       "MIXFHEHDWSFZZWFV  [https://rukminim1.flixcart.com/image/416/416/...         0   \n",
       "\n",
       "                                   timestamp  \n",
       "TMRFSXHRMGTRGSUB  2021-05-26 16:41:31.263909  \n",
       "IRNFZV2YUBUZ3PTZ  2021-05-26 16:41:32.960085  \n",
       "IRNF5PDZRSABTJPF  2021-05-26 16:41:35.095613  \n",
       "TMRFG4XHFDEBCWFZ  2021-05-26 16:41:36.713799  \n",
       "ICTFZJ2FBDXFH3N8  2021-05-26 16:41:38.428859  \n",
       "...                                      ...  \n",
       "EPRFZ6XESFJHQ5TP  2021-05-26 17:16:07.797271  \n",
       "TMRFVW7GNQGT6ZAZ  2021-05-26 17:16:10.117286  \n",
       "MIXEHC24GCZCJS6F  2021-05-26 17:16:12.012598  \n",
       "TMRFUFZ3HK9CHZWM  2021-05-26 17:16:13.373725  \n",
       "MIXFHEHDWSFZZWFV  2021-05-26 17:16:14.902356  \n",
       "\n",
       "[992 rows x 7 columns]"
      ],
      "text/html": "<div>\n<style scoped>\n    .dataframe tbody tr th:only-of-type {\n        vertical-align: middle;\n    }\n\n    .dataframe tbody tr th {\n        vertical-align: top;\n    }\n\n    .dataframe thead th {\n        text-align: right;\n    }\n</style>\n<table border=\"1\" class=\"dataframe\">\n  <thead>\n    <tr style=\"text-align: right;\">\n      <th></th>\n      <th>product title</th>\n      <th>product details</th>\n      <th>feature details</th>\n      <th>hl_emi details</th>\n      <th>images</th>\n      <th>num vids</th>\n      <th>timestamp</th>\n    </tr>\n  </thead>\n  <tbody>\n    <tr>\n      <th>TMRFSXHRMGTRGSUB</th>\n      <td>PHILIPS MG 3730 Runtime: 60 min Trimmer for Me...</td>\n      <td>{'1 Trimmer set': nan, 'Brand': 'PHILIPS', 'Mo...</td>\n      <td>{'timestamp': '2021-05-26 16:41:31.216264'}</td>\n      <td>{'Highlights': 'Blade Material: Titanium Coate...</td>\n      <td>[]</td>\n      <td>0</td>\n      <td>2021-05-26 16:41:31.263909</td>\n    </tr>\n    <tr>\n      <th>IRNFZV2YUBUZ3PTZ</th>\n      <td>PHILIPS Dry Iron 1000 WATT 1000 W Steam Iron  ...</td>\n      <td>{'Sales Package': 'IRON', 'Brand': 'PHILIPS', ...</td>\n      <td>{'timestamp': '2021-05-26 16:41:32.872069'}</td>\n      <td>{'Highlights': 'Steam Iron\nTEFLON Plate\nConsum...</td>\n      <td>[https://rukminim1.flixcart.com/image/416/416/...</td>\n      <td>0</td>\n      <td>2021-05-26 16:41:32.960085</td>\n    </tr>\n    <tr>\n      <th>IRNF5PDZRSABTJPF</th>\n      <td>PHILIPS HI 114 1000 W Dry Iron  (White)</td>\n      <td>{'Sales Package': 1, 'Brand': 'PHILIPS', 'Mode...</td>\n      <td>{'timestamp': '2021-05-26 16:41:34.978542'}</td>\n      <td>{'Highlights': 'Dry Iron\nGolden American Herit...</td>\n      <td>[https://rukminim1.flixcart.com/image/416/416/...</td>\n      <td>0</td>\n      <td>2021-05-26 16:41:35.095613</td>\n    </tr>\n    <tr>\n      <th>TMRFG4XHFDEBCWFZ</th>\n      <td>PHILIPS BT3201/15 Runtime: 30 min Trimmer for ...</td>\n      <td>{'1 trimmer, user manual, warranty card': nan,...</td>\n      <td>{'timestamp': '2021-05-26 16:41:36.613321'}</td>\n      <td>{'Highlights': 'Blade Material: Stainless Stee...</td>\n      <td>[https://rukminim1.flixcart.com/image/416/416/...</td>\n      <td>0</td>\n      <td>2021-05-26 16:41:36.713799</td>\n    </tr>\n    <tr>\n      <th>ICTFZJ2FBDXFH3N8</th>\n      <td>PHILIPS Viva Collection HD4938/01 2100-Watt In...</td>\n      <td>{'Sales Package': '1 INDUCTION', 'Brand': 'PHI...</td>\n      <td>{'timestamp': '2021-05-26 16:41:38.354163'}</td>\n      <td>{'Highlights': 'Type: Induction Cooktop\nWorkto...</td>\n      <td>[]</td>\n      <td>0</td>\n      <td>2021-05-26 16:41:38.428859</td>\n    </tr>\n    <tr>\n      <th>...</th>\n      <td>...</td>\n      <td>...</td>\n      <td>...</td>\n      <td>...</td>\n      <td>...</td>\n      <td>...</td>\n      <td>...</td>\n    </tr>\n    <tr>\n      <th>EPRFZ6XESFJHQ5TP</th>\n      <td>PHILIPS BRE710/00 pack of 2 Cordless Epilator ...</td>\n      <td>{'Epilator, Shaving Head, Trimming Comb, Delic...</td>\n      <td>{'timestamp': '2021-05-26 17:16:07.723137'}</td>\n      <td>{'Highlights': 'For Legs\nUsed For: Dry and Wet...</td>\n      <td>[]</td>\n      <td>0</td>\n      <td>2021-05-26 17:16:07.797271</td>\n    </tr>\n    <tr>\n      <th>TMRFVW7GNQGT6ZAZ</th>\n      <td>PHILIPS HC3505/15 Runtime: 0 mins Trimmer for ...</td>\n      <td>{'1 Trimmer, Hair Clipper, User Manual, Warran...</td>\n      <td>{'timestamp': '2021-05-26 17:16:10.046195'}</td>\n      <td>{'Highlights': 'Blade Material: Stainless Stee...</td>\n      <td>[https://rukminim1.flixcart.com/image/416/416/...</td>\n      <td>0</td>\n      <td>2021-05-26 17:16:10.117286</td>\n    </tr>\n    <tr>\n      <th>MIXEHC24GCZCJS6F</th>\n      <td>PHILIPS hl 7756 750 W Mixer Grinder (3 Jars, B...</td>\n      <td>{'Sales Package': '1 mixer grinder and 3 jars'...</td>\n      <td>{'timestamp': '2021-05-26 17:16:11.907351'}</td>\n      <td>{'Total Jars': '3', 'Highlights': '750 W : Hig...</td>\n      <td>[https://rukminim1.flixcart.com/image/416/416/...</td>\n      <td>0</td>\n      <td>2021-05-26 17:16:12.012598</td>\n    </tr>\n    <tr>\n      <th>TMRFUFZ3HK9CHZWM</th>\n      <td>PHILIPS TRIMMER VIRAT KOHLI SIGNATURE LIMITED ...</td>\n      <td>{'TRIMMER, CUTTING SHEET': nan, 'Brand': 'PHIL...</td>\n      <td>{'timestamp': '2021-05-26 17:16:13.328997'}</td>\n      <td>{'Highlights': 'Blade Material: Stainless Stee...</td>\n      <td>[]</td>\n      <td>0</td>\n      <td>2021-05-26 17:16:13.373725</td>\n    </tr>\n    <tr>\n      <th>MIXFHEHDWSFZZWFV</th>\n      <td>PHILIPS (HL1606 )3Jar Watt 500 Mixer Grinder (...</td>\n      <td>{'Sales Package': 'mixer grinder', 'Warranty S...</td>\n      <td>{'timestamp': '2021-05-26 17:16:14.806331'}</td>\n      <td>{'Total Jars': '3', 'Highlights': '500 : Highe...</td>\n      <td>[https://rukminim1.flixcart.com/image/416/416/...</td>\n      <td>0</td>\n      <td>2021-05-26 17:16:14.902356</td>\n    </tr>\n  </tbody>\n</table>\n<p>992 rows × 7 columns</p>\n</div>"
     },
     "metadata": {},
     "execution_count": 109
    }
   ],
   "source": [
    "df_FlipkartData"
   ]
  },
  {
   "cell_type": "code",
   "execution_count": 123,
   "metadata": {},
   "outputs": [
    {
     "output_type": "execute_result",
     "data": {
      "text/plain": [
       "{'Manual, Concentrator, Main Unit': nan,\n",
       " 'Brand': 'PHILIPS',\n",
       " 'Model Number': 'HP8100/60',\n",
       " 'Color': 'Blue',\n",
       " 'Number of Speed Settings': '2',\n",
       " 'Number of Heat Settings': '2',\n",
       " 'Number of Attachments': '4',\n",
       " 'Attachment Types': 'Concentrator',\n",
       " 'Nozzle/Concentrator': 'yes',\n",
       " 'Cold Air Feature': 'No',\n",
       " 'Wattage': '1000 W',\n",
       " 'Power Required (Volts)': '220-240',\n",
       " 'Universal Voltage': 'Yes',\n",
       " 'Removable Filter': 'Yes',\n",
       " 'Hanging Loop': 'Yes',\n",
       " 'Cord Length': '1.5 m',\n",
       " 'Foldable': 'No',\n",
       " 'Warranty Summary': '2-year guarantee',\n",
       " 'Service Type': '2-year guarantee',\n",
       " 'Covered in Warranty': '2-year guarantee',\n",
       " 'Not Covered in Warranty': '2-year guarantee',\n",
       " 'Description_product': 'Compact and ergonomic, this hairdryer benefits from a clever modern design. This results in a dryer that is light and easy to handle yet small enough to store virtually anywhere.This 1000W hairdryer creates the optimum level of airflow and gentle drying power, for beautiful results every day.The rubberised hook is located at the base of the handle and provides another storage option, particularly convenient for use in the home or when staying at a hotel.The concentrator works by focusing the flow of air through the opening onto specific areas. This results in precise styling and is great for touch ups or to finish a style.2 years of worldwide guarantee.The ThermoProtect temperature provides the optimal drying temperature and gives additional protection from overheating the hair. With the same powerful airflow, you will get the best results in a caring way.Careful drying with 2 flexible heat settings.',\n",
       " 'timestamp': '2021-05-26 16:41:55.982235'}"
      ]
     },
     "metadata": {},
     "execution_count": 123
    }
   ],
   "source": [
    "df_FlipkartData['product details'][14]"
   ]
  },
  {
   "cell_type": "code",
   "execution_count": null,
   "metadata": {},
   "outputs": [],
   "source": [
    "asin_details.update(asin_page)"
   ]
  },
  {
   "cell_type": "code",
   "execution_count": null,
   "metadata": {},
   "outputs": [],
   "source": [
    "asin_details"
   ]
  },
  {
   "cell_type": "code",
   "execution_count": null,
   "metadata": {},
   "outputs": [],
   "source": []
  },
  {
   "cell_type": "code",
   "execution_count": null,
   "metadata": {},
   "outputs": [],
   "source": [
    "img_list,num_vids = getCatalogContent()\n",
    "print(\"Images\",img_list,\"Number of videos\",num_vids)"
   ]
  }
 ]
}